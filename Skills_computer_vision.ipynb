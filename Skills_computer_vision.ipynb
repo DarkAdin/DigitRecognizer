{
 "cells": [
  {
   "cell_type": "markdown",
   "id": "f03c0c02-02c9-4703-b4c6-52875d369215",
   "metadata": {},
   "source": [
    "# Digit Recognizer\n",
    "\n",
    "Simple implementation of a computer vision algorithm for learning and predicting labels on the MNIST dataset for the Kaggle competition of Digit Recognizer: https://www.kaggle.com/competitions/digit-recognizer\n",
    "\n",
    "* Reading of the data\n",
    "* Normalizing it\n",
    "* Converting into matrix form\n",
    "* Augment the data\n",
    "    * By rotating the images\n",
    "    * By zooming in/out of the images\n",
    "* Learning through a Convolutional Neural Network\n",
    "* Prediction on a test partition\n",
    "* Evaluation of the learning process\n",
    "* Performing the predictions on the unlabeled data\n",
    "* Saving the predictions on disk\n",
    "* Saving the model itself on disk (re-train it, etc.)\n",
    "\n",
    "It returns and saves predictions on disk directly submittable into the competition."
   ]
  },
  {
   "cell_type": "code",
   "execution_count": 1,
   "id": "b5b64dfc-c2aa-47de-9b26-67701ca42816",
   "metadata": {},
   "outputs": [
    {
     "name": "stderr",
     "output_type": "stream",
     "text": [
      "2024-08-28 20:27:04.437592: I tensorflow/core/platform/cpu_feature_guard.cc:210] This TensorFlow binary is optimized to use available CPU instructions in performance-critical operations.\n",
      "To enable the following instructions: SSE3 SSE4.1 SSE4.2 AVX AVX2 FMA, in other operations, rebuild TensorFlow with the appropriate compiler flags.\n"
     ]
    }
   ],
   "source": [
    "import tensorflow as tf\n",
    "from tensorflow import keras\n",
    "from tensorflow.keras import datasets, layers, models\n",
    "import matplotlib.pyplot as plt\n",
    "import pandas as pd\n",
    "import numpy as np"
   ]
  },
  {
   "cell_type": "code",
   "execution_count": 2,
   "id": "b05338e4-1196-4d99-9da7-2936e447ebd2",
   "metadata": {},
   "outputs": [],
   "source": [
    "# White background in graphs\n",
    "plt.style.use('dark_background')\n",
    "\n",
    "# Dimensions of every pyplot figure. Change to suit your needs\n",
    "plt.rcParams['figure.figsize'] = [10, 5]"
   ]
  },
  {
   "cell_type": "markdown",
   "id": "7250c5a5-2222-4fe0-af27-67b932872fec",
   "metadata": {},
   "source": [
    "# Read data"
   ]
  },
  {
   "cell_type": "markdown",
   "id": "8f8d1b91-9c26-4d02-b3af-6404a936f315",
   "metadata": {},
   "source": [
    "## If you have matrix-based data"
   ]
  },
  {
   "cell_type": "code",
   "execution_count": 3,
   "id": "e798409c-26a8-4a02-bd3f-ae111c9b18a5",
   "metadata": {},
   "outputs": [],
   "source": [
    "#(train_images, train_labels), (test_images, test_labels) = datasets.cifar10.load_data()\n",
    "#train_images, test_images = train_images/255.0, test_images/255.0"
   ]
  },
  {
   "cell_type": "code",
   "execution_count": 4,
   "id": "a717a48d-1008-4522-b78a-15957de30fb2",
   "metadata": {},
   "outputs": [],
   "source": [
    "train_images = pd.read_csv('train.csv')\n",
    "test_images = pd.read_csv('test.csv')"
   ]
  },
  {
   "cell_type": "code",
   "execution_count": 5,
   "id": "1e6b13e9-928c-488a-b2a7-180f6656400f",
   "metadata": {},
   "outputs": [],
   "source": [
    "template = pd.read_csv('sample_submission.csv')"
   ]
  },
  {
   "cell_type": "code",
   "execution_count": 6,
   "id": "5a2fda08-a087-4712-8d2c-4931b16e69e0",
   "metadata": {},
   "outputs": [],
   "source": [
    "train_labels = train_images['label']\n",
    "train_images.drop(['label'], inplace = True, axis = 1)"
   ]
  },
  {
   "cell_type": "code",
   "execution_count": 7,
   "id": "c200cb1e-9c02-4345-8604-a5ab6fa5f0e2",
   "metadata": {},
   "outputs": [],
   "source": [
    "# Normalize\n",
    "train_images, test_images = train_images/255.0, test_images/255.0"
   ]
  },
  {
   "cell_type": "code",
   "execution_count": 8,
   "id": "58e8c2e4-866d-460b-a531-1485e2851c26",
   "metadata": {},
   "outputs": [],
   "source": [
    "Sequential = keras.models.Sequential\n",
    "Dense = keras.layers.Dense\n",
    "Conv2D = keras.layers.Conv2D\n",
    "MaxPooling2D = keras.layers.MaxPooling2D\n",
    "Flatten = keras.layers.Flatten\n",
    "load_model = keras.models.load_model\n",
    "AvgPooling2D = keras.layers.AveragePooling2D\n",
    "Softmax = keras.layers.Softmax\n",
    "Input = keras.layers.Input"
   ]
  },
  {
   "cell_type": "markdown",
   "id": "87980ed5-8efb-40b7-851b-4173f6caafc5",
   "metadata": {},
   "source": [
    "### Convert into matrix-based"
   ]
  },
  {
   "cell_type": "code",
   "execution_count": 9,
   "id": "c7d4f988-3d56-4b0c-971d-7c3c1beb0a32",
   "metadata": {},
   "outputs": [],
   "source": [
    "train_images, test_images = np.array(train_images), np.array(test_images)"
   ]
  },
  {
   "cell_type": "code",
   "execution_count": 10,
   "id": "b3226cad-2b1c-41c7-9ffc-baeed9ff6c34",
   "metadata": {},
   "outputs": [],
   "source": [
    "channels = 1\n",
    "train_nuevos, test_nuevos = [], []\n",
    "for i in range(len(train_images)):\n",
    "    train_nuevos.append(train_images[i].reshape(28,28,channels))\n",
    "for i in range(len(test_images)):\n",
    "    test_nuevos.append(test_images[i].reshape(28,28,channels))\n",
    "train_nuevos, test_nuevos = np.array(train_nuevos), np.array(test_nuevos)\n",
    "train_images, test_images = None, None"
   ]
  },
  {
   "cell_type": "markdown",
   "id": "882771a7-7abb-4183-9c94-f405e387ebe8",
   "metadata": {},
   "source": [
    "# Data augmentation"
   ]
  },
  {
   "cell_type": "markdown",
   "id": "99466b1b-68fd-4568-8360-da4a2a4dd650",
   "metadata": {},
   "source": [
    "## Flipping\n",
    "\n",
    "Flipping a strangely-written $5$ could lead to a very convincing $2$, for example. Since flipping could potentially lead to increasing the noise in the data, we leave this out, but this is something that can also be done."
   ]
  },
  {
   "cell_type": "code",
   "execution_count": 10,
   "id": "9b7ad35d-085d-4992-a2f7-aba667062231",
   "metadata": {},
   "outputs": [],
   "source": [
    "#flipper = keras.layers.RandomFlip()\n",
    "#train_flipped = flipper(train_nuevos)"
   ]
  },
  {
   "cell_type": "markdown",
   "id": "8ed94059-77c2-4f31-b864-5edab63b23cf",
   "metadata": {},
   "source": [
    "## Rotating"
   ]
  },
  {
   "cell_type": "code",
   "execution_count": 17,
   "id": "1c955430-2666-42c1-8501-39109f9e7e07",
   "metadata": {},
   "outputs": [],
   "source": [
    "rotator = keras.layers.RandomRotation(\n",
    "    factor = (-0.1, 0.1),\n",
    "    fill_mode = 'nearest'\n",
    ")\n",
    "train_rotated = rotator(train_nuevos)"
   ]
  },
  {
   "cell_type": "markdown",
   "id": "f8101855-9fee-4a15-9b90-e4f3023afc98",
   "metadata": {},
   "source": [
    "## Random zoom"
   ]
  },
  {
   "cell_type": "code",
   "execution_count": 28,
   "id": "32bf27c4-4e5d-49d6-a52d-335496d485d0",
   "metadata": {},
   "outputs": [],
   "source": [
    "zoomer = tf.keras.layers.RandomZoom(\n",
    "    -0.35, 0.35,\n",
    "    fill_mode = 'nearest'\n",
    ")\n",
    "train_zoomed = zoomer(train_nuevos)"
   ]
  },
  {
   "cell_type": "markdown",
   "id": "434dc724-78c5-4a1c-8b41-54c6ea3055fd",
   "metadata": {},
   "source": [
    "## Check the transformations done"
   ]
  },
  {
   "cell_type": "code",
   "execution_count": 31,
   "id": "b46b293b-db16-4cb2-8d79-9fe92fb9eb61",
   "metadata": {},
   "outputs": [
    {
     "data": {
      "image/png": "[encoded data removed]",
      "text/plain": [
       "<Figure size 1000x500 with 1 Axes>"
      ]
     },
     "metadata": {},
     "output_type": "display_data"
    },
    {
     "data": {
      "image/png": "[encoded data removed]",
      "text/plain": [
       "<Figure size 1000x500 with 1 Axes>"
      ]
     },
     "metadata": {},
     "output_type": "display_data"
    },
    {
     "data": {
      "image/png": "[encoded data removed]",
      "text/plain": [
       "<Figure size 1000x500 with 1 Axes>"
      ]
     },
     "metadata": {},
     "output_type": "display_data"
    }
   ],
   "source": [
    "chosen = 4777\n",
    "plt.imshow(train_nuevos[chosen])\n",
    "plt.show()\n",
    "plt.imshow(train_rotated[chosen])\n",
    "plt.show()\n",
    "plt.imshow(train_zoomed[chosen])\n",
    "plt.show()"
   ]
  },
  {
   "cell_type": "markdown",
   "id": "ea0583c2-f295-48a1-ba88-d08d367deef3",
   "metadata": {},
   "source": [
    "## Merge the augmentations"
   ]
  },
  {
   "cell_type": "code",
   "execution_count": 32,
   "id": "4ecc95ec-fcb2-4407-a453-d649e3009437",
   "metadata": {},
   "outputs": [],
   "source": [
    "train_nuevos = np.concatenate((train_nuevos, train_rotated, train_zoomed), axis = 0)\n",
    "#train_nuevos = np.concatenate((train_nuevos, train_rotated), axis = 0)\n",
    "train_rotated = None\n",
    "train_zoomed = None\n",
    "#train_flipped = None"
   ]
  },
  {
   "cell_type": "markdown",
   "id": "98698be0-6af1-46d4-b515-b634e3d3f588",
   "metadata": {},
   "source": [
    "## Clone the labels\n",
    "\n",
    "To compensate for the new data."
   ]
  },
  {
   "cell_type": "code",
   "execution_count": 33,
   "id": "9e6ab5a2-c17a-4152-ae1c-15e5919c7f91",
   "metadata": {},
   "outputs": [],
   "source": [
    "train_labels_augmented = pd.Series(3*list(train_labels))"
   ]
  },
  {
   "cell_type": "markdown",
   "id": "d1ad2c34-a987-4af3-ac69-84b8c9805b59",
   "metadata": {},
   "source": [
    "# Split"
   ]
  },
  {
   "cell_type": "code",
   "execution_count": 34,
   "id": "a27984a8-cee6-417c-b986-84909e165bbf",
   "metadata": {},
   "outputs": [],
   "source": [
    "from sklearn.model_selection import train_test_split as TTS\n",
    "x_tr, x_te, y_tr, y_te = TTS(train_nuevos, train_labels_augmented, test_size = 0.25, random_state = None)"
   ]
  },
  {
   "cell_type": "code",
   "execution_count": 35,
   "id": "3b623945-d3e9-4e3f-bbb4-b1280e22a2f1",
   "metadata": {},
   "outputs": [
    {
     "name": "stderr",
     "output_type": "stream",
     "text": [
      "/home/adan/.local/lib/python3.12/site-packages/keras/src/layers/convolutional/base_conv.py:107: UserWarning: Do not pass an `input_shape`/`input_dim` argument to a layer. When using Sequential models, prefer using an `Input(shape)` object as the first layer in the model instead.\n",
      "  super().__init__(activity_regularizer=activity_regularizer, **kwargs)\n"
     ]
    },
    {
     "data": {
      "text/html": [
       "<pre style=\"white-space:pre;overflow-x:auto;line-height:normal;font-family:Menlo,'DejaVu Sans Mono',consolas,'Courier New',monospace\"><span style=\"font-weight: bold\">Model: \"sequential\"</span>\n",
       "</pre>\n"
      ],
      "text/plain": [
       "\u001b[1mModel: \"sequential\"\u001b[0m\n"
      ]
     },
     "metadata": {},
     "output_type": "display_data"
    },
    {
     "data": {
      "text/html": [
       "<pre style=\"white-space:pre;overflow-x:auto;line-height:normal;font-family:Menlo,'DejaVu Sans Mono',consolas,'Courier New',monospace\">┏━━━━━━━━━━━━━━━━━━━━━━━━━━━━━━━━━┳━━━━━━━━━━━━━━━━━━━━━━━━┳━━━━━━━━━━━━━━━┓\n",
       "┃<span style=\"font-weight: bold\"> Layer (type)                    </span>┃<span style=\"font-weight: bold\"> Output Shape           </span>┃<span style=\"font-weight: bold\">       Param # </span>┃\n",
       "┡━━━━━━━━━━━━━━━━━━━━━━━━━━━━━━━━━╇━━━━━━━━━━━━━━━━━━━━━━━━╇━━━━━━━━━━━━━━━┩\n",
       "│ conv2d (<span style=\"color: #0087ff; text-decoration-color: #0087ff\">Conv2D</span>)                 │ (<span style=\"color: #00d7ff; text-decoration-color: #00d7ff\">None</span>, <span style=\"color: #00af00; text-decoration-color: #00af00\">26</span>, <span style=\"color: #00af00; text-decoration-color: #00af00\">26</span>, <span style=\"color: #00af00; text-decoration-color: #00af00\">256</span>)    │         <span style=\"color: #00af00; text-decoration-color: #00af00\">2,560</span> │\n",
       "├─────────────────────────────────┼────────────────────────┼───────────────┤\n",
       "│ max_pooling2d (<span style=\"color: #0087ff; text-decoration-color: #0087ff\">MaxPooling2D</span>)    │ (<span style=\"color: #00d7ff; text-decoration-color: #00d7ff\">None</span>, <span style=\"color: #00af00; text-decoration-color: #00af00\">13</span>, <span style=\"color: #00af00; text-decoration-color: #00af00\">13</span>, <span style=\"color: #00af00; text-decoration-color: #00af00\">256</span>)    │             <span style=\"color: #00af00; text-decoration-color: #00af00\">0</span> │\n",
       "├─────────────────────────────────┼────────────────────────┼───────────────┤\n",
       "│ conv2d_1 (<span style=\"color: #0087ff; text-decoration-color: #0087ff\">Conv2D</span>)               │ (<span style=\"color: #00d7ff; text-decoration-color: #00d7ff\">None</span>, <span style=\"color: #00af00; text-decoration-color: #00af00\">11</span>, <span style=\"color: #00af00; text-decoration-color: #00af00\">11</span>, <span style=\"color: #00af00; text-decoration-color: #00af00\">256</span>)    │       <span style=\"color: #00af00; text-decoration-color: #00af00\">590,080</span> │\n",
       "├─────────────────────────────────┼────────────────────────┼───────────────┤\n",
       "│ max_pooling2d_1 (<span style=\"color: #0087ff; text-decoration-color: #0087ff\">MaxPooling2D</span>)  │ (<span style=\"color: #00d7ff; text-decoration-color: #00d7ff\">None</span>, <span style=\"color: #00af00; text-decoration-color: #00af00\">5</span>, <span style=\"color: #00af00; text-decoration-color: #00af00\">5</span>, <span style=\"color: #00af00; text-decoration-color: #00af00\">256</span>)      │             <span style=\"color: #00af00; text-decoration-color: #00af00\">0</span> │\n",
       "├─────────────────────────────────┼────────────────────────┼───────────────┤\n",
       "│ conv2d_2 (<span style=\"color: #0087ff; text-decoration-color: #0087ff\">Conv2D</span>)               │ (<span style=\"color: #00d7ff; text-decoration-color: #00d7ff\">None</span>, <span style=\"color: #00af00; text-decoration-color: #00af00\">3</span>, <span style=\"color: #00af00; text-decoration-color: #00af00\">3</span>, <span style=\"color: #00af00; text-decoration-color: #00af00\">256</span>)      │       <span style=\"color: #00af00; text-decoration-color: #00af00\">590,080</span> │\n",
       "├─────────────────────────────────┼────────────────────────┼───────────────┤\n",
       "│ flatten (<span style=\"color: #0087ff; text-decoration-color: #0087ff\">Flatten</span>)               │ (<span style=\"color: #00d7ff; text-decoration-color: #00d7ff\">None</span>, <span style=\"color: #00af00; text-decoration-color: #00af00\">2304</span>)           │             <span style=\"color: #00af00; text-decoration-color: #00af00\">0</span> │\n",
       "├─────────────────────────────────┼────────────────────────┼───────────────┤\n",
       "│ dense (<span style=\"color: #0087ff; text-decoration-color: #0087ff\">Dense</span>)                   │ (<span style=\"color: #00d7ff; text-decoration-color: #00d7ff\">None</span>, <span style=\"color: #00af00; text-decoration-color: #00af00\">128</span>)            │       <span style=\"color: #00af00; text-decoration-color: #00af00\">295,040</span> │\n",
       "├─────────────────────────────────┼────────────────────────┼───────────────┤\n",
       "│ dense_1 (<span style=\"color: #0087ff; text-decoration-color: #0087ff\">Dense</span>)                 │ (<span style=\"color: #00d7ff; text-decoration-color: #00d7ff\">None</span>, <span style=\"color: #00af00; text-decoration-color: #00af00\">96</span>)             │        <span style=\"color: #00af00; text-decoration-color: #00af00\">12,384</span> │\n",
       "├─────────────────────────────────┼────────────────────────┼───────────────┤\n",
       "│ dense_2 (<span style=\"color: #0087ff; text-decoration-color: #0087ff\">Dense</span>)                 │ (<span style=\"color: #00d7ff; text-decoration-color: #00d7ff\">None</span>, <span style=\"color: #00af00; text-decoration-color: #00af00\">10</span>)             │           <span style=\"color: #00af00; text-decoration-color: #00af00\">970</span> │\n",
       "├─────────────────────────────────┼────────────────────────┼───────────────┤\n",
       "│ softmax (<span style=\"color: #0087ff; text-decoration-color: #0087ff\">Softmax</span>)               │ (<span style=\"color: #00d7ff; text-decoration-color: #00d7ff\">None</span>, <span style=\"color: #00af00; text-decoration-color: #00af00\">10</span>)             │             <span style=\"color: #00af00; text-decoration-color: #00af00\">0</span> │\n",
       "└─────────────────────────────────┴────────────────────────┴───────────────┘\n",
       "</pre>\n"
      ],
      "text/plain": [
       "┏━━━━━━━━━━━━━━━━━━━━━━━━━━━━━━━━━┳━━━━━━━━━━━━━━━━━━━━━━━━┳━━━━━━━━━━━━━━━┓\n",
       "┃\u001b[1m \u001b[0m\u001b[1mLayer (type)                   \u001b[0m\u001b[1m \u001b[0m┃\u001b[1m \u001b[0m\u001b[1mOutput Shape          \u001b[0m\u001b[1m \u001b[0m┃\u001b[1m \u001b[0m\u001b[1m      Param #\u001b[0m\u001b[1m \u001b[0m┃\n",
       "┡━━━━━━━━━━━━━━━━━━━━━━━━━━━━━━━━━╇━━━━━━━━━━━━━━━━━━━━━━━━╇━━━━━━━━━━━━━━━┩\n",
       "│ conv2d (\u001b[38;5;33mConv2D\u001b[0m)                 │ (\u001b[38;5;45mNone\u001b[0m, \u001b[38;5;34m26\u001b[0m, \u001b[38;5;34m26\u001b[0m, \u001b[38;5;34m256\u001b[0m)    │         \u001b[38;5;34m2,560\u001b[0m │\n",
       "├─────────────────────────────────┼────────────────────────┼───────────────┤\n",
       "│ max_pooling2d (\u001b[38;5;33mMaxPooling2D\u001b[0m)    │ (\u001b[38;5;45mNone\u001b[0m, \u001b[38;5;34m13\u001b[0m, \u001b[38;5;34m13\u001b[0m, \u001b[38;5;34m256\u001b[0m)    │             \u001b[38;5;34m0\u001b[0m │\n",
       "├─────────────────────────────────┼────────────────────────┼───────────────┤\n",
       "│ conv2d_1 (\u001b[38;5;33mConv2D\u001b[0m)               │ (\u001b[38;5;45mNone\u001b[0m, \u001b[38;5;34m11\u001b[0m, \u001b[38;5;34m11\u001b[0m, \u001b[38;5;34m256\u001b[0m)    │       \u001b[38;5;34m590,080\u001b[0m │\n",
       "├─────────────────────────────────┼────────────────────────┼───────────────┤\n",
       "│ max_pooling2d_1 (\u001b[38;5;33mMaxPooling2D\u001b[0m)  │ (\u001b[38;5;45mNone\u001b[0m, \u001b[38;5;34m5\u001b[0m, \u001b[38;5;34m5\u001b[0m, \u001b[38;5;34m256\u001b[0m)      │             \u001b[38;5;34m0\u001b[0m │\n",
       "├─────────────────────────────────┼────────────────────────┼───────────────┤\n",
       "│ conv2d_2 (\u001b[38;5;33mConv2D\u001b[0m)               │ (\u001b[38;5;45mNone\u001b[0m, \u001b[38;5;34m3\u001b[0m, \u001b[38;5;34m3\u001b[0m, \u001b[38;5;34m256\u001b[0m)      │       \u001b[38;5;34m590,080\u001b[0m │\n",
       "├─────────────────────────────────┼────────────────────────┼───────────────┤\n",
       "│ flatten (\u001b[38;5;33mFlatten\u001b[0m)               │ (\u001b[38;5;45mNone\u001b[0m, \u001b[38;5;34m2304\u001b[0m)           │             \u001b[38;5;34m0\u001b[0m │\n",
       "├─────────────────────────────────┼────────────────────────┼───────────────┤\n",
       "│ dense (\u001b[38;5;33mDense\u001b[0m)                   │ (\u001b[38;5;45mNone\u001b[0m, \u001b[38;5;34m128\u001b[0m)            │       \u001b[38;5;34m295,040\u001b[0m │\n",
       "├─────────────────────────────────┼────────────────────────┼───────────────┤\n",
       "│ dense_1 (\u001b[38;5;33mDense\u001b[0m)                 │ (\u001b[38;5;45mNone\u001b[0m, \u001b[38;5;34m96\u001b[0m)             │        \u001b[38;5;34m12,384\u001b[0m │\n",
       "├─────────────────────────────────┼────────────────────────┼───────────────┤\n",
       "│ dense_2 (\u001b[38;5;33mDense\u001b[0m)                 │ (\u001b[38;5;45mNone\u001b[0m, \u001b[38;5;34m10\u001b[0m)             │           \u001b[38;5;34m970\u001b[0m │\n",
       "├─────────────────────────────────┼────────────────────────┼───────────────┤\n",
       "│ softmax (\u001b[38;5;33mSoftmax\u001b[0m)               │ (\u001b[38;5;45mNone\u001b[0m, \u001b[38;5;34m10\u001b[0m)             │             \u001b[38;5;34m0\u001b[0m │\n",
       "└─────────────────────────────────┴────────────────────────┴───────────────┘\n"
      ]
     },
     "metadata": {},
     "output_type": "display_data"
    },
    {
     "data": {
      "text/html": [
       "<pre style=\"white-space:pre;overflow-x:auto;line-height:normal;font-family:Menlo,'DejaVu Sans Mono',consolas,'Courier New',monospace\"><span style=\"font-weight: bold\"> Total params: </span><span style=\"color: #00af00; text-decoration-color: #00af00\">1,491,114</span> (5.69 MB)\n",
       "</pre>\n"
      ],
      "text/plain": [
       "\u001b[1m Total params: \u001b[0m\u001b[38;5;34m1,491,114\u001b[0m (5.69 MB)\n"
      ]
     },
     "metadata": {},
     "output_type": "display_data"
    },
    {
     "data": {
      "text/html": [
       "<pre style=\"white-space:pre;overflow-x:auto;line-height:normal;font-family:Menlo,'DejaVu Sans Mono',consolas,'Courier New',monospace\"><span style=\"font-weight: bold\"> Trainable params: </span><span style=\"color: #00af00; text-decoration-color: #00af00\">1,491,114</span> (5.69 MB)\n",
       "</pre>\n"
      ],
      "text/plain": [
       "\u001b[1m Trainable params: \u001b[0m\u001b[38;5;34m1,491,114\u001b[0m (5.69 MB)\n"
      ]
     },
     "metadata": {},
     "output_type": "display_data"
    },
    {
     "data": {
      "text/html": [
       "<pre style=\"white-space:pre;overflow-x:auto;line-height:normal;font-family:Menlo,'DejaVu Sans Mono',consolas,'Courier New',monospace\"><span style=\"font-weight: bold\"> Non-trainable params: </span><span style=\"color: #00af00; text-decoration-color: #00af00\">0</span> (0.00 B)\n",
       "</pre>\n"
      ],
      "text/plain": [
       "\u001b[1m Non-trainable params: \u001b[0m\u001b[38;5;34m0\u001b[0m (0.00 B)\n"
      ]
     },
     "metadata": {},
     "output_type": "display_data"
    }
   ],
   "source": [
    "model = Sequential([\n",
    "    Conv2D(256, (3,3), activation = 'gelu', input_shape = (28, 28, 1)),\n",
    "    MaxPooling2D(2,2),\n",
    "    Conv2D(256, (3,3), activation = 'gelu'),\n",
    "    MaxPooling2D(2,2),\n",
    "    Conv2D(256, (3,3), activation = 'gelu'),\n",
    "    Flatten(),\n",
    "    Dense(128, activation = 'gelu'),\n",
    "    Dense(96, activation = 'gelu'),\n",
    "    Dense(10, activation = 'linear'),\n",
    "    Softmax()\n",
    "])\n",
    "model.summary()"
   ]
  },
  {
   "cell_type": "code",
   "execution_count": 36,
   "id": "edd9aae9-6660-4b0c-bd1b-f5f98bd90f52",
   "metadata": {},
   "outputs": [],
   "source": [
    "model.compile(\n",
    "    optimizer='adam',\n",
    "    #optimizer='adamw',\n",
    "    #loss=tf.keras.losses.SparseCategoricalCrossentropy(from_logits=True), # False si la última capa es Softmax\n",
    "    #loss=tf.keras.losses.SparseCategoricalCrossentropy(),\n",
    "    loss = 'sparse_categorical_crossentropy',\n",
    "    #optimizer = 'rmsprop',\n",
    "    #loss = 'binary_crossentropy', ## PARA CUANDO SOLO HAYA 2 CLASES!!!!\n",
    "    metrics=['accuracy']\n",
    ")"
   ]
  },
  {
   "cell_type": "markdown",
   "id": "18934a9d-40a3-42f8-a53c-1b5e7bd7b9e5",
   "metadata": {},
   "source": [
    "El método ```fit``` acepta ```generators``` aparte de las meras matrices de datos y las etiquetas. Esto permite entrenar un modelo sin tener que cargar todos los datos en memoria porque los ```generators``` devuelven solo una parte de los datos por paso.\n",
    "\n",
    "Los ```generators``` contienen no solo los datos sino también las etiquetas. De no utilizarlos, hay que especificar también las etiquetas."
   ]
  },
  {
   "cell_type": "code",
   "execution_count": 37,
   "id": "fa7c8c6c-e8dd-4f22-8eab-6d22edcc0ed5",
   "metadata": {},
   "outputs": [
    {
     "name": "stdout",
     "output_type": "stream",
     "text": [
      "Epoch 1/3\n",
      "\u001b[1m2954/2954\u001b[0m \u001b[32m━━━━━━━━━━━━━━━━━━━━\u001b[0m\u001b[37m\u001b[0m \u001b[1m1637s\u001b[0m 553ms/step - accuracy: 0.9175 - loss: 0.2574 - val_accuracy: 0.9817 - val_loss: 0.0614\n",
      "Epoch 2/3\n",
      "\u001b[1m2954/2954\u001b[0m \u001b[32m━━━━━━━━━━━━━━━━━━━━\u001b[0m\u001b[37m\u001b[0m \u001b[1m1649s\u001b[0m 558ms/step - accuracy: 0.9834 - loss: 0.0559 - val_accuracy: 0.9824 - val_loss: 0.0653\n",
      "Epoch 3/3\n",
      "\u001b[1m2954/2954\u001b[0m \u001b[32m━━━━━━━━━━━━━━━━━━━━\u001b[0m\u001b[37m\u001b[0m \u001b[1m1625s\u001b[0m 550ms/step - accuracy: 0.9868 - loss: 0.0430 - val_accuracy: 0.9864 - val_loss: 0.0500\n"
     ]
    }
   ],
   "source": [
    "#nb_train_samples = len(train_generator.classes)\n",
    "#nb_validation_samples = len(validation_generator.classes)\n",
    "\n",
    "history = model.fit(\n",
    "    x_tr, y_tr,\n",
    "    validation_data = (x_te, y_te),\n",
    "    callbacks = [\n",
    "        keras.callbacks.EarlyStopping(monitor = 'val_loss', patience = 2) # Stop learning if val_loss doesn't change in 2 epochs\n",
    "    ],\n",
    "    #train_generator,\n",
    "    #validation_data = validation_generator,\n",
    "    #steps_per_epoch = 1000,\n",
    "    #validation_steps = 400,\n",
    "    epochs = 3\n",
    ")"
   ]
  },
  {
   "cell_type": "code",
   "execution_count": 38,
   "id": "3e9367e6-8053-4870-aa77-09cbcdc6e4ff",
   "metadata": {},
   "outputs": [
    {
     "data": {
      "image/png": "[encoded data removed]",
      "text/plain": [
       "<Figure size 1000x500 with 1 Axes>"
      ]
     },
     "metadata": {},
     "output_type": "display_data"
    },
    {
     "data": {
      "image/png": "[encoded data removed]",
      "text/plain": [
       "<Figure size 1000x500 with 1 Axes>"
      ]
     },
     "metadata": {},
     "output_type": "display_data"
    }
   ],
   "source": [
    "plt.plot(history.history['accuracy'], label='accuracy', linewidth = 2, color = 'blue')\n",
    "plt.plot(history.history['val_accuracy'], label = 'val_accuracy', linewidth = 2, color = 'green')\n",
    "plt.xlabel('Epoch')\n",
    "plt.ylabel('Accuracy')\n",
    "plt.legend(loc='best')\n",
    "plt.show()\n",
    "\n",
    "plt.plot(history.history['loss'], label='loss', linewidth=2, color = 'red')\n",
    "plt.plot(history.history['val_loss'], label='val_loss', linewidth=2, color = 'orange')\n",
    "plt.xlabel('Epoch')\n",
    "plt.ylabel('Loss')\n",
    "plt.legend(loc = 'best')\n",
    "plt.show()"
   ]
  },
  {
   "cell_type": "code",
   "execution_count": 39,
   "id": "88884070-f3e5-4134-9771-cb4cf0146cf1",
   "metadata": {},
   "outputs": [
    {
     "name": "stdout",
     "output_type": "stream",
     "text": [
      "\u001b[1m875/875\u001b[0m \u001b[32m━━━━━━━━━━━━━━━━━━━━\u001b[0m\u001b[37m\u001b[0m \u001b[1m121s\u001b[0m 139ms/step\n",
      "985/985 - 132s - 134ms/step - accuracy: 0.9864 - loss: 0.0500\n"
     ]
    }
   ],
   "source": [
    "#test_loss, test_acc = model.evaluate(validation_generator, verbose=2)\n",
    "predicciones = model.predict(test_nuevos)\n",
    "test_loss, test_acc = model.evaluate(x_te, y_te, verbose = 2)"
   ]
  },
  {
   "cell_type": "code",
   "execution_count": 40,
   "id": "14b5d99a-86dc-4973-925f-e945046fe0bd",
   "metadata": {},
   "outputs": [
    {
     "data": {
      "text/plain": [
       "0.986380934715271"
      ]
     },
     "execution_count": 40,
     "metadata": {},
     "output_type": "execute_result"
    }
   ],
   "source": [
    "test_acc"
   ]
  },
  {
   "cell_type": "code",
   "execution_count": 52,
   "id": "ded3b061-8b51-41f9-8695-e13febd7ab45",
   "metadata": {},
   "outputs": [],
   "source": [
    "model.save('Augmented_Train.keras')"
   ]
  },
  {
   "cell_type": "code",
   "execution_count": 43,
   "id": "7e14dbe2-3fb9-4ce5-a0dc-3f6865f7a148",
   "metadata": {},
   "outputs": [],
   "source": [
    "lista = list(set(y_te))\n",
    "clases_predecidas = []\n",
    "for i in range(len(predicciones)):\n",
    "    clases_predecidas.append(lista[list(predicciones[i]).index(max(list(predicciones[i])))])"
   ]
  },
  {
   "cell_type": "code",
   "execution_count": 44,
   "id": "d055e72f-6ada-44f7-a2c3-04cd24bd52e8",
   "metadata": {},
   "outputs": [],
   "source": [
    "template['Label'] = clases_predecidas"
   ]
  },
  {
   "cell_type": "code",
   "execution_count": 45,
   "id": "c2b0dc3b-4023-4d88-becd-d935e034226f",
   "metadata": {},
   "outputs": [],
   "source": [
    "pd.DataFrame(template).to_csv('Results_submission.csv', index = False)"
   ]
  },
  {
   "cell_type": "code",
   "execution_count": null,
   "id": "05919dc8-a895-4059-a87b-3eacff36137c",
   "metadata": {
    "scrolled": true
   },
   "outputs": [],
   "source": [
    "#for i in range(len(test_labels)):\n",
    "#    print (class_names[test_labels[i][0]], class_names[list(predicciones[i]).index(max(predicciones[i]))])"
   ]
  }
 ],
 "metadata": {
  "kernelspec": {
   "display_name": "Python 3 (ipykernel)",
   "language": "python",
   "name": "python3"
  },
  "language_info": {
   "codemirror_mode": {
    "name": "ipython",
    "version": 3
   },
   "file_extension": ".py",
   "mimetype": "text/x-python",
   "name": "python",
   "nbconvert_exporter": "python",
   "pygments_lexer": "ipython3",
   "version": "3.12.5"
  }
 },
 "nbformat": 4,
 "nbformat_minor": 5
}
